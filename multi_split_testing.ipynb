{
 "cells": [
  {
   "cell_type": "markdown",
   "metadata": {},
   "source": [
    "## Making functions to do testing either A/B or multivariant\n",
    "\n",
    "Pulling from: \n",
    "https://blog.dominodatalab.com/ab-testing-with-hierarchical-models-in-python/\n",
    "\n",
    "https://www.evanmiller.org/bayesian-ab-testing.html#binary_abc\n",
    "\n",
    "As well as his resources sited. This is very comprehensive and theoretical. It's honestly the best way to explain the process of testing and experimental design."
   ]
  },
  {
   "cell_type": "code",
   "execution_count": 1,
   "metadata": {
    "collapsed": true
   },
   "outputs": [],
   "source": [
    "import pymc\n",
    "import numpy as np\n",
    "import matplotlib.pyplot as plt\n",
    "import seaborn as sns\n",
    "plt.style.use('fivethirtyeight')\n",
    "%matplotlib inline"
   ]
  },
  {
   "cell_type": "code",
   "execution_count": 9,
   "metadata": {
    "collapsed": true
   },
   "outputs": [],
   "source": [
    "@pymc.deterministic\n",
    "def delta(p_A = p_A, p_B = p_B):\n",
    "    return p_B - p_A\n",
    "def split_testing(a_dist,b_dist):\n",
    "    p_A = pymc.Uniform('p_A', 0, 1)\n",
    "    p_B = pymc.Uniform('p_B', 0, 1)\n",
    "    @pymc.deterministic\n",
    "    def delta(p_A = p_A, p_B = p_B):\n",
    "        return p_B - p_A\n",
    "    obs_A = pymc.Bernoulli('obs_A', p_A, value = values_A , observed = True)\n",
    "    obs_B = pymc.Bernoulli('obs_B', p_B, value = values_B , observed = True)\n",
    "    model = pymc.Model([p_A, p_B, delta, values_A, values_B])\n",
    "    mcmc = pymc.MCMC(model)\n",
    "    mcmc.sample(1000000, 500000)\n",
    "    siteA_distribution = mcmc.trace(\"p_A\")[:]\n",
    "    siteB_distribution = mcmc.trace(\"p_B\")[:]\n",
    "    delta_distribution = mcmc.trace('delta')[:]\n",
    "    print()\n",
    "    print(\"Probability that  A > B: %0.3f\" % (delta_distribution < 0).mean())\n",
    "    print()\n",
    "    print (\"Probability that A < B: %0.3f\" % (delta_distribution > 0).mean())\n",
    "    sns.kdeplot(delta_distribution, shade = True)\n",
    "    plt.axvline(0.00, color = 'black')\n",
    "    return(model)"
   ]
  },
  {
   "cell_type": "code",
   "execution_count": 10,
   "metadata": {},
   "outputs": [
    {
     "name": "stdout",
     "output_type": "stream",
     "text": [
      " [-----------------100%-----------------] 1000000 of 1000000 complete in 171.1 sec\n",
      "Probability that  A > B: 0.022\n",
      "\n",
      "Probability that A < B: 0.978\n"
     ]
    },
    {
     "data": {
      "text/plain": [
       "<pymc.Model.Model at 0x1113904a8>"
      ]
     },
     "execution_count": 10,
     "metadata": {},
     "output_type": "execute_result"
    },
    {
     "data": {
      "image/png": "[encoded data removed]",
      "text/plain": [
       "<matplotlib.figure.Figure at 0x10ff087b8>"
      ]
     },
     "metadata": {},
     "output_type": "display_data"
    }
   ],
   "source": [
    "values_A = np.hstack(([0]*(1055-28),[1]*28))\n",
    "# Website B had 1057 clicks and 45 sign-ups\n",
    "values_B = np.hstack(([0]*(1057-45),[1]*45))\n",
    "split_testing(values_A,values_B)"
   ]
  },
  {
   "cell_type": "markdown",
   "metadata": {},
   "source": [
    "## Incorporating Hierachical Models"
   ]
  },
  {
   "cell_type": "code",
   "execution_count": 3,
   "metadata": {
    "collapsed": true
   },
   "outputs": [],
   "source": [
    "def multi_split_testing(trials_list,successes_list):\n",
    "    trials = trials_list\n",
    "    successes = successes_list\n",
    "    @pymc.stochastic(dtype=np.float64)\n",
    "    def beta_priors(value=[1.0, 1.0]):\n",
    "        a, b = value\n",
    "        if a <= 0 or b <= 0:\n",
    "            return -np.inf\n",
    "        else:\n",
    "            return np.log(np.power((a + b), -2.5))\n",
    "    a = beta_priors[0]\n",
    "    b = beta_priors[1]\n",
    "    #The hidden, true rate for each website.\n",
    "    true_rates = pymc.Beta('true_rates', a, b, size=len(trials_list))\n",
    "    # This is what we observed\n",
    "    observed_values = pymc.Binomial('observed_values', trials_list, true_rates, observed=True, value=successes)\n",
    "    model = pymc.Model([a, b, true_rates, observed_values])\n",
    "    mcmc = pymc.MCMC(model)\n",
    "    # Generate 1M samples, and throw out the first 500k\n",
    "    mcmc.sample(1000000, 500000)\n",
    "    for i in range(5):\n",
    "        sns.kdeplot(mcmc.trace('true_rates')[:][:,i], shade = True, label = \"%s\" % chr(65+i))"
   ]
  },
  {
   "cell_type": "code",
   "execution_count": null,
   "metadata": {
    "collapsed": true
   },
   "outputs": [],
   "source": [
    "trials = np.array([1055, 1057, 1065, 1039, 1046])\n",
    "\n",
    "successes = np.array([28, 45, 69, 58, 60])\n",
    "\n",
    "multi_split_testing(trials,successes)"
   ]
  },
  {
   "cell_type": "markdown",
   "metadata": {},
   "source": [
    "## Lets incorporate a class structure to make this more user friendly"
   ]
  },
  {
   "cell_type": "code",
   "execution_count": 45,
   "metadata": {
    "collapsed": true
   },
   "outputs": [],
   "source": [
    "@pymc.stochastic(dtype=np.float64)\n",
    "## calculating beta_priors a and b\n",
    "def beta_priors(value=[1.0, 1.0]):\n",
    "    a, b = value\n",
    "    if a <= 0 or b <= 0:\n",
    "        return -np.inf\n",
    "    else:\n",
    "        return np.log(np.power((a + b), -2.5))\n",
    "class multi_testing(object):\n",
    "    def __init__(self,trials,successes,trial_names):\n",
    "        self.trial_names = trial_names\n",
    "        self.trials = trials\n",
    "        self.successes = successes\n",
    "    def make_model_and_sample(self):\n",
    "        a = beta_priors[0]\n",
    "        b = beta_priors[1]\n",
    "        #The hidden, true rate for each website.\n",
    "        true_rates = pymc.Beta('true_rates', a, b, size=len(trials))\n",
    "        # This is what we observed\n",
    "        observed_values = pymc.Binomial('observed_values', trials, true_rates, observed=True, value=successes)\n",
    "        model = pymc.Model([a, b, true_rates, observed_values])\n",
    "        self.mcmc = pymc.MCMC(model)\n",
    "        self.mcmc.sample(1000000, 500000)\n",
    "    # Generate 1M samples, and throw out the first 500k\n",
    "    def plot_posteriors(self):\n",
    "        for i in range(5):\n",
    "            sns.kdeplot(self.mcmc.trace('true_rates')[:][:,i], shade = True, label = \"%s\" % trial_names[i])\n",
    "    def plot_single(self,trial_n):\n",
    "        trial_idx = self.trial_names.index(trial_n)\n",
    "        sns.kdeplot(self.mcmc.trace('true_rates')[:][:,trial_idx ], shade = True, label = \"%s\" % trial_n)\n",
    "    def plot_delta(self,trial_a,trial_b):\n",
    "        a_index = self.trial_names.index(trial_a)\n",
    "        b_index = self.trial_names.index(trial_b)\n",
    "        diff = self.mcmc.trace('true_rates')[:][:,b_index] - self.mcmc.trace('true_rates')[:][:,a_index]\n",
    "        sns.kdeplot(diff, shade = True, label = \"Difference site %s - site %s\"%(trial_a,trial_b))\n",
    "        plt.axvline(0.0, color = 'black')"
   ]
  },
  {
   "cell_type": "code",
   "execution_count": null,
   "metadata": {
    "collapsed": true
   },
   "outputs": [],
   "source": []
  },
  {
   "cell_type": "code",
   "execution_count": 46,
   "metadata": {
    "collapsed": true
   },
   "outputs": [],
   "source": [
    "trials = np.array([1055, 1057, 1065, 1039, 1046])\n",
    "successes = np.array([28, 45, 69, 58, 60])\n",
    "trial_names = ['a','b','c','d','e']\n",
    "test_1 = multi_testing(trials,successes,trial_names)"
   ]
  },
  {
   "cell_type": "code",
   "execution_count": 47,
   "metadata": {},
   "outputs": [
    {
     "name": "stdout",
     "output_type": "stream",
     "text": [
      " [-----------------100%-----------------] 1000000 of 1000000 complete in 219.0 sec"
     ]
    }
   ],
   "source": [
    "test_1.make_model_and_sample()"
   ]
  },
  {
   "cell_type": "code",
   "execution_count": 48,
   "metadata": {},
   "outputs": [
    {
     "data": {
      "image/png": "[encoded data removed]",
      "text/plain": [
       "<matplotlib.figure.Figure at 0x11fd932e8>"
      ]
     },
     "metadata": {},
     "output_type": "display_data"
    }
   ],
   "source": [
    "test_1.plot_posteriors()"
   ]
  },
  {
   "cell_type": "code",
   "execution_count": 51,
   "metadata": {},
   "outputs": [
    {
     "data": {
      "image/png": "[encoded data removed]",
      "text/plain": [
       "<matplotlib.figure.Figure at 0x113ed81d0>"
      ]
     },
     "metadata": {},
     "output_type": "display_data"
    }
   ],
   "source": [
    "test_1.plot_single('b')"
   ]
  },
  {
   "cell_type": "code",
   "execution_count": 50,
   "metadata": {},
   "outputs": [
    {
     "data": {
      "image/png": "[encoded data removed]",
      "text/plain": [
       "<matplotlib.figure.Figure at 0x11a7fdb00>"
      ]
     },
     "metadata": {},
     "output_type": "display_data"
    }
   ],
   "source": [
    "test_1.plot_delta('a','b')"
   ]
  },
  {
   "cell_type": "code",
   "execution_count": null,
   "metadata": {
    "collapsed": true
   },
   "outputs": [],
   "source": []
  },
  {
   "cell_type": "markdown",
   "metadata": {},
   "source": [
    "## Classic p-value evaluation\n"
   ]
  },
  {
   "cell_type": "code",
   "execution_count": 5,
   "metadata": {},
   "outputs": [],
   "source": [
    "import plotly.plotly as py\n",
    "import plotly.graph_objs as go\n",
    "from plotly.tools import FigureFactory as FF\n",
    "import numpy as np\n",
    "import pandas as pd\n",
    "import scipy.stats"
   ]
  },
  {
   "cell_type": "code",
   "execution_count": null,
   "metadata": {
    "collapsed": true
   },
   "outputs": [],
   "source": [
    "py.sign_in(username='cwczarnik',api_key='Is5ldV5TgJQMWUQRXtvR')"
   ]
  },
  {
   "cell_type": "code",
   "execution_count": 6,
   "metadata": {},
   "outputs": [
    {
     "data": {
      "text/plain": [
       "'1.0.0'"
      ]
     },
     "execution_count": 6,
     "metadata": {},
     "output_type": "execute_result"
    }
   ],
   "source": [
    "## instlal version 1.0 of scipy\n",
    "scipy.__version__"
   ]
  },
  {
   "cell_type": "code",
   "execution_count": 10,
   "metadata": {
    "collapsed": true
   },
   "outputs": [],
   "source": [
    "data1 = np.random.normal(0, 1, size=50)\n",
    "data2 = np.random.normal(2, 1, size=50)"
   ]
  },
  {
   "cell_type": "code",
   "execution_count": 11,
   "metadata": {},
   "outputs": [
    {
     "data": {
      "text/html": [
       "<iframe id=\"igraph\" scrolling=\"no\" style=\"border:none;\" seamless=\"seamless\" src=\"https://plot.ly/~cwczarnik/145.embed\" height=\"525px\" width=\"100%\"></iframe>"
      ],
      "text/plain": [
       "<plotly.tools.PlotlyDisplay object>"
      ]
     },
     "execution_count": 11,
     "metadata": {},
     "output_type": "execute_result"
    }
   ],
   "source": [
    "x = np.linspace(-4, 4, 160)\n",
    "\n",
    "y1 = scipy.stats.norm.pdf(x)\n",
    "y2 = scipy.stats.norm.pdf(x, loc=2)\n",
    "\n",
    "trace1 = go.Scatter(\n",
    "    x = x,\n",
    "    y = y1,\n",
    "    mode = 'lines+markers',\n",
    "    name='Mean of 0'\n",
    ")\n",
    "\n",
    "trace2 = go.Scatter(\n",
    "    x = x,\n",
    "    y = y2,\n",
    "    mode = 'lines+markers',\n",
    "    name='Mean of 2'\n",
    ")\n",
    "\n",
    "data = [trace1, trace2]\n",
    "\n",
    "py.iplot(data)"
   ]
  },
  {
   "cell_type": "code",
   "execution_count": 15,
   "metadata": {},
   "outputs": [
    {
     "name": "stderr",
     "output_type": "stream",
     "text": [
      "/anaconda3/lib/python3.6/site-packages/plotly/tools.py:1422: UserWarning:\n",
      "\n",
      "plotly.tools.FigureFactory.create_table is deprecated. Use plotly.figure_factory.create_table\n",
      "\n"
     ]
    },
    {
     "data": {
      "text/html": [
       "<iframe id=\"igraph\" scrolling=\"no\" style=\"border:none;\" seamless=\"seamless\" src=\"https://plot.ly/~cwczarnik/147.embed\" height=\"110px\" width=\"100%\"></iframe>"
      ],
      "text/plain": [
       "<plotly.tools.PlotlyDisplay object>"
      ]
     },
     "execution_count": 15,
     "metadata": {},
     "output_type": "execute_result"
    }
   ],
   "source": [
    "true_mu = 0\n",
    "\n",
    "onesample_results = scipy.stats.ttest_1samp(data1, true_mu)\n",
    "\n",
    "matrix_onesample = [\n",
    "    ['', 'Test Statistic', 'p-value'],\n",
    "    ['Sample Data', onesample_results[0], onesample_results[1]]\n",
    "]\n",
    "\n",
    "onesample_table = FF.create_table(matrix_onesample, index=True)\n",
    "py.iplot(onesample_table, filename='onesample-table')\n"
   ]
  },
  {
   "cell_type": "code",
   "execution_count": null,
   "metadata": {
    "collapsed": true
   },
   "outputs": [],
   "source": []
  },
  {
   "cell_type": "code",
   "execution_count": 16,
   "metadata": {},
   "outputs": [
    {
     "name": "stderr",
     "output_type": "stream",
     "text": [
      "/anaconda3/lib/python3.6/site-packages/plotly/tools.py:1422: UserWarning:\n",
      "\n",
      "plotly.tools.FigureFactory.create_table is deprecated. Use plotly.figure_factory.create_table\n",
      "\n"
     ]
    },
    {
     "data": {
      "text/html": [
       "<iframe id=\"igraph\" scrolling=\"no\" style=\"border:none;\" seamless=\"seamless\" src=\"https://plot.ly/~cwczarnik/149.embed\" height=\"110px\" width=\"100%\"></iframe>"
      ],
      "text/plain": [
       "<plotly.tools.PlotlyDisplay object>"
      ]
     },
     "execution_count": 16,
     "metadata": {},
     "output_type": "execute_result"
    }
   ],
   "source": [
    "twosample_results = scipy.stats.ttest_ind(data1, data2)\n",
    "\n",
    "matrix_twosample = [\n",
    "    ['', 'Test Statistic', 'p-value'],\n",
    "    ['Sample Data', twosample_results[0], twosample_results[1]]\n",
    "]\n",
    "\n",
    "twosample_table = FF.create_table(matrix_twosample, index=True)\n",
    "py.iplot(twosample_table, filename='twosample-table')\n"
   ]
  },
  {
   "cell_type": "code",
   "execution_count": 9,
   "metadata": {
    "collapsed": true
   },
   "outputs": [],
   "source": []
  },
  {
   "cell_type": "code",
   "execution_count": null,
   "metadata": {
    "collapsed": true
   },
   "outputs": [],
   "source": []
  }
 ],
 "metadata": {
  "kernelspec": {
   "display_name": "Python 3",
   "language": "python",
   "name": "python3"
  },
  "language_info": {
   "codemirror_mode": {
    "name": "ipython",
    "version": 3
   },
   "file_extension": ".py",
   "mimetype": "text/x-python",
   "name": "python",
   "nbconvert_exporter": "python",
   "pygments_lexer": "ipython3",
   "version": "3.6.2"
  }
 },
 "nbformat": 4,
 "nbformat_minor": 2
}
