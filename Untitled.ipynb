{
 "cells": [
  {
   "cell_type": "markdown",
   "metadata": {},
   "source": [
    "## Making functions to do testing either A/B or multivariant\n",
    "\n",
    "Pulling from: \n",
    "https://blog.dominodatalab.com/ab-testing-with-hierarchical-models-in-python/\n",
    "\n",
    "https://www.evanmiller.org/bayesian-ab-testing.html#binary_abc\n",
    "\n",
    "As well as his resources sited. This is very comprehensive and theoretical. It's honestly the best way to explain the process of testing and experimental design."
   ]
  },
  {
   "cell_type": "code",
   "execution_count": 1,
   "metadata": {},
   "outputs": [],
   "source": [
    "import pymc\n",
    "import numpy as np\n",
    "import matplotlib.pyplot as plt\n",
    "import seaborn as sns\n",
    "plt.style.use('fivethirtyeight')\n",
    "%matplotlib inline"
   ]
  },
  {
   "cell_type": "code",
   "execution_count": 2,
   "metadata": {},
   "outputs": [],
   "source": [
    "# @pymc.deterministic\n",
    "# def delta(p_A = p_A, p_B = p_B):\n",
    "#     return p_B - p_A\n",
    "def split_testing(a_dist,b_dist):\n",
    "    p_A = pymc.Uniform('p_A', 0, 1)\n",
    "    p_B = pymc.Uniform('p_B', 0, 1)\n",
    "    @pymc.deterministic\n",
    "    def delta(p_A = p_A, p_B = p_B):\n",
    "        return p_B - p_A\n",
    "    obs_A = pymc.Bernoulli('obs_A', p_A, value = values_A , observed = True)\n",
    "    obs_B = pymc.Bernoulli('obs_B', p_B, value = values_B , observed = True)\n",
    "    model = pymc.Model([p_A, p_B, delta, values_A, values_B])\n",
    "    mcmc = pymc.MCMC(model)\n",
    "    mcmc.sample(1000000, 500000)\n",
    "    siteA_distribution = mcmc.trace(\"p_A\")[:]\n",
    "    siteB_distribution = mcmc.trace(\"p_B\")[:]\n",
    "    delta_distribution = mcmc.trace('delta')[:]\n",
    "    print(\"Probability that  A > B: %0.3f\" % (delta_distribution < 0).mean())\n",
    "    print()\n",
    "    print (\"Probability that A < B: %0.3f\" % (delta_distribution > 0).mean())\n",
    "    sns.kdeplot(delta_distribution, shade = True)\n",
    "    plt.axvline(0.00, color = 'black')\n",
    "    return(model)"
   ]
  },
  {
   "cell_type": "code",
   "execution_count": null,
   "metadata": {},
   "outputs": [],
   "source": [
    "values_A = np.hstack(([0]*(1055-28),[1]*28))\n",
    "# Website B had 1057 clicks and 45 sign-ups\n",
    "values_B = np.hstack(([0]*(1057-45),[1]*45))\n",
    "split_testing(values_A,values_B)"
   ]
  },
  {
   "cell_type": "markdown",
   "metadata": {},
   "source": [
    "## Incorporating Hierachical Models"
   ]
  },
  {
   "cell_type": "code",
   "execution_count": 3,
   "metadata": {},
   "outputs": [],
   "source": [
    "def multi_split_testing(trials_list,successes_list):\n",
    "    trials = trials_list\n",
    "    successes = successes_list\n",
    "    @pymc.stochastic(dtype=np.float64)\n",
    "    def beta_priors(value=[1.0, 1.0]):\n",
    "        a, b = value\n",
    "        if a <= 0 or b <= 0:\n",
    "            return -np.inf\n",
    "        else:\n",
    "            return np.log(np.power((a + b), -2.5))\n",
    "    a = beta_priors[0]\n",
    "    b = beta_priors[1]\n",
    "    #The hidden, true rate for each website.\n",
    "    true_rates = pymc.Beta('true_rates', a, b, size=len(trials_list))\n",
    "    # This is what we observed\n",
    "    observed_values = pymc.Binomial('observed_values', trials_list, true_rates, observed=True, value=successes)\n",
    "    model = pymc.Model([a, b, true_rates, observed_values])\n",
    "    mcmc = pymc.MCMC(model)\n",
    "    # Generate 1M samples, and throw out the first 500k\n",
    "    mcmc.sample(1000000, 500000)\n",
    "    for i in range(5):\n",
    "        sns.kdeplot(mcmc.trace('true_rates')[:][:,i], shade = True, label = \"%s\" % chr(65+i))"
   ]
  },
  {
   "cell_type": "code",
   "execution_count": null,
   "metadata": {},
   "outputs": [],
   "source": [
    "trials = np.array([1055, 1057, 1065, 1039, 1046])\n",
    "\n",
    "successes = np.array([28, 45, 69, 58, 60])\n",
    "\n",
    "multi_split_testing(trials,successes)"
   ]
  },
  {
   "cell_type": "markdown",
   "metadata": {},
   "source": [
    "## Lets incorporate a class structure to make this more user friendly"
   ]
  },
  {
   "cell_type": "code",
   "execution_count": 7,
   "metadata": {},
   "outputs": [],
   "source": [
    "@pymc.stochastic(dtype=np.float64)\n",
    "## calculating beta_priors a and b\n",
    "def beta_priors(value=[1.0, 1.0]):\n",
    "    a, b = value\n",
    "    if a <= 0 or b <= 0:\n",
    "        return -np.inf\n",
    "    else:\n",
    "        return np.log(np.power((a + b), -2.5))\n",
    "    \n",
    "class multi_testing(object):\n",
    "    def __init__(self,trials,successes,trial_names):\n",
    "        self.trial_names = trial_names\n",
    "        self.trials = trials\n",
    "        self.successes = successes\n",
    "    def make_model_and_sample(self):\n",
    "        a = beta_priors[0]\n",
    "        b = beta_priors[1]\n",
    "        #The hidden, true rate for each website.\n",
    "        true_rates = pymc.Beta('true_rates', a, b, size=len(trials))\n",
    "        # This is what we observed\n",
    "        observed_values = pymc.Binomial('observed_values', trials, true_rates, observed=True, value=successes)\n",
    "        model = pymc.Model([a, b, true_rates, observed_values])\n",
    "        self.mcmc = pymc.MCMC(model)\n",
    "        self.mcmc.sample(1000000, 500000)\n",
    "    # Generate 1M samples, and throw out the first 500k\n",
    "    def plot_posteriors(self):\n",
    "        for i in range(5):\n",
    "            sns.kdeplot(self.mcmc.trace('true_rates')[:][:,i], shade = True, label = \"%s\" % trial_names[i])"
   ]
  },
  {
   "cell_type": "code",
   "execution_count": null,
   "metadata": {
    "collapsed": true
   },
   "outputs": [],
   "source": []
  },
  {
   "cell_type": "code",
   "execution_count": 8,
   "metadata": {},
   "outputs": [],
   "source": [
    "trials = np.array([1055, 1057, 1065, 1039, 1046])\n",
    "successes = np.array([28, 45, 69, 58, 60])\n",
    "trial_names = ['a','b','c','d','e']\n",
    "test_1 = multi_testing(trials,successes,trial_names)"
   ]
  },
  {
   "cell_type": "code",
   "execution_count": null,
   "metadata": {},
   "outputs": [
    {
     "name": "stdout",
     "output_type": "stream",
     "text": [
      " [-----------------70%------            ] 700478 of 1000000 complete in 158.6 sec"
     ]
    }
   ],
   "source": [
    "test_1.make_model_and_sample()"
   ]
  },
  {
   "cell_type": "code",
   "execution_count": null,
   "metadata": {
    "collapsed": true
   },
   "outputs": [],
   "source": [
    "test_1.plot_posteriors()"
   ]
  }
 ],
 "metadata": {
  "kernelspec": {
   "display_name": "Python 3",
   "language": "python",
   "name": "python3"
  },
  "language_info": {
   "codemirror_mode": {
    "name": "ipython",
    "version": 3
   },
   "file_extension": ".py",
   "mimetype": "text/x-python",
   "name": "python",
   "nbconvert_exporter": "python",
   "pygments_lexer": "ipython3",
   "version": "3.6.2"
  }
 },
 "nbformat": 4,
 "nbformat_minor": 2
}
