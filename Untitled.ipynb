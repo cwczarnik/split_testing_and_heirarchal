{
 "cells": [
  {
   "cell_type": "markdown",
   "metadata": {},
   "source": [
    "## Making functions to do testing either A/B or multivariant\n",
    "\n",
    "Pulling from: \n",
    "https://blog.dominodatalab.com/ab-testing-with-hierarchical-models-in-python/\n",
    "\n",
    "https://www.evanmiller.org/bayesian-ab-testing.html#binary_abc\n",
    "\n",
    "As well as his resources sited. This is very comprehensive and theoretical. It's honestly the best way to explain the process of testing and experimental design."
   ]
  },
  {
   "cell_type": "code",
   "execution_count": 19,
   "metadata": {},
   "outputs": [],
   "source": [
    "import pymc\n",
    "import numpy as np\n",
    "import matplotlib.pyplot as plt\n",
    "import seaborn as sns\n",
    "plt.style.use('fivethirtyeight')\n",
    "%matplotlib inline"
   ]
  },
  {
   "cell_type": "code",
   "execution_count": 14,
   "metadata": {},
   "outputs": [],
   "source": [
    "# Website A had 1055 clicks and 28 sign-ups\n",
    "\n",
    "values_A = np.hstack(([0]*(1055-28),[1]*28))\n",
    "\n",
    "# Website B had 1057 clicks and 45 sign-ups\n",
    "\n",
    "values_B = np.hstack(([0]*(1057-45),[1]*45))\n",
    "\n",
    "# Create a uniform prior for the probabilities p_a and p_b\n",
    "\n",
    "p_A = pymc.Uniform('p_A', 0, 1)\n",
    "\n",
    "p_B = pymc.Uniform('p_B', 0, 1)\n",
    "\n",
    "# Creates a posterior distribution of B - A\n",
    "\n",
    "@pymc.deterministic\n",
    "\n",
    "def delta(p_A = p_A, p_B = p_B):\n",
    "    return p_B - p_A\n"
   ]
  },
  {
   "cell_type": "code",
   "execution_count": 17,
   "metadata": {},
   "outputs": [
    {
     "name": "stdout",
     "output_type": "stream",
     "text": [
      " [-----------------100%-----------------] 1000000 of 1000000 complete in 438.9 sec"
     ]
    }
   ],
   "source": [
    "\n",
    "# Create the Bernoulli variables for the observation\n",
    "\n",
    "obs_A = pymc.Bernoulli('obs_A', p_A, value = values_A , observed = True)\n",
    "\n",
    "obs_B = pymc.Bernoulli('obs_B', p_B, value = values_B , observed = True)\n",
    "\n",
    " \n",
    "\n",
    "# Create the model and run the sampling\n",
    "\n",
    "model = pymc.Model([p_A, p_B, delta, values_A, values_B])\n",
    "\n",
    "mcmc = pymc.MCMC(model)\n",
    "\n",
    "# Sample 1,000,000 million points and throw out the first 500,000\n",
    "\n",
    "mcmc.sample(1000000, 500000)\n"
   ]
  },
  {
   "cell_type": "code",
   "execution_count": 20,
   "metadata": {},
   "outputs": [
    {
     "data": {
      "text/plain": [
       "<matplotlib.lines.Line2D at 0x11a40c400>"
      ]
     },
     "execution_count": 20,
     "metadata": {},
     "output_type": "execute_result"
    },
    {
     "data": {
      "image/png": "[encoded data removed]",
      "text/plain": [
       "<matplotlib.figure.Figure at 0x11a40ce48>"
      ]
     },
     "metadata": {},
     "output_type": "display_data"
    }
   ],
   "source": [
    "delta_distribution = mcmc.trace('delta')[:]\n",
    "\n",
    "sns.kdeplot(delta_distribution, shade = True)\n",
    "\n",
    "plt.axvline(0.00, color = 'black')"
   ]
  },
  {
   "cell_type": "code",
   "execution_count": 24,
   "metadata": {},
   "outputs": [
    {
     "name": "stdout",
     "output_type": "stream",
     "text": [
      "Probability that website A gets MORE sign-ups than site B: 0.002\n",
      "Probability that website A gets LESS sign-ups than site B: 0.998\n"
     ]
    }
   ],
   "source": [
    "print(\"Probability that website A gets MORE sign-ups than site B: %0.3f\" % (delta_distribution < 0).mean())\n",
    "\n",
    "print (\"Probability that website A gets LESS sign-ups than site B: %0.3f\" % (delta_distribution > 0).mean())"
   ]
  },
  {
   "cell_type": "code",
   "execution_count": null,
   "metadata": {
    "collapsed": true
   },
   "outputs": [],
   "source": []
  },
  {
   "cell_type": "markdown",
   "metadata": {},
   "source": [
    "## For multiple testing"
   ]
  },
  {
   "cell_type": "code",
   "execution_count": 25,
   "metadata": {
    "collapsed": true
   },
   "outputs": [],
   "source": [
    "@pymc.stochastic(dtype=np.float64)\n",
    "def beta_priors(value=[1.0, 1.0]):\n",
    "    a, b = value\n",
    "    if a <= 0 or b <= 0:\n",
    "        return -np.inf\n",
    "    else:\n",
    "        return np.log(np.power((a + b), -2.5))\n",
    "\n",
    "a = beta_priors[0]\n",
    "b = beta_priors[1]"
   ]
  },
  {
   "cell_type": "code",
   "execution_count": null,
   "metadata": {
    "collapsed": true
   },
   "outputs": [],
   "source": [
    "# The hidden, true rate for each website.\n",
    "true_rates = pymc.Beta('true_rates', a, b, size=5)\n",
    "\n",
    "# The observed values\n",
    "trials = np.array([1055, 1057, 1065, 1039, 1046])\n",
    "successes = np.array([28, 45, 69, 58, 60])\n",
    "observed_values = pymc.Binomial('observed_values', trials, true_rates, observed=True, value=successes)\n",
    "\n",
    "model = pymc.Model([a, b, true_rates, observed_values])\n",
    "mcmc = pymc.MCMC(model)\n",
    "\n",
    "# Generate 1,000,000 samples, and throw out the first 500,000\n",
    "mcmc.sample(1000000, 500000)"
   ]
  },
  {
   "cell_type": "code",
   "execution_count": null,
   "metadata": {
    "collapsed": true
   },
   "outputs": [],
   "source": [
    "\n",
    "diff_CA = mcmc.trace('true_rates')[:][:,2] - mcmc.trace('true_rates')[:][:,0]\n",
    "\n",
    "sns.kdeplot(diff_CA, shade = True, label = \"Difference site C - site A\")\n",
    "\n",
    "plt.axvline(0.0, color = 'black')\n"
   ]
  },
  {
   "cell_type": "code",
   "execution_count": null,
   "metadata": {
    "collapsed": true
   },
   "outputs": [],
   "source": [
    "\n",
    "print( \"Probability that website A gets MORE sign-ups than website C: %0.3f\" % (diff_CA < 0).mean())\n",
    "print \"Probability that website A gets LESS sign-ups than website C: %0.3f\" % (diff_CA > 0).mean()"
   ]
  }
 ],
 "metadata": {
  "kernelspec": {
   "display_name": "Python 3",
   "language": "python",
   "name": "python3"
  },
  "language_info": {
   "codemirror_mode": {
    "name": "ipython",
    "version": 3
   },
   "file_extension": ".py",
   "mimetype": "text/x-python",
   "name": "python",
   "nbconvert_exporter": "python",
   "pygments_lexer": "ipython3",
   "version": "3.6.2"
  }
 },
 "nbformat": 4,
 "nbformat_minor": 2
}
